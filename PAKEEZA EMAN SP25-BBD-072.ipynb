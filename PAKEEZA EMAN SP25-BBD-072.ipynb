{
 "cells": [
  {
   "cell_type": "code",
   "execution_count": 1,
   "id": "6f0d4d57-b434-4a8b-81ab-33099019aa4a",
   "metadata": {},
   "outputs": [
    {
     "name": "stdout",
     "output_type": "stream",
     "text": [
      "Hello, Python Learner!\n"
     ]
    }
   ],
   "source": [
    "#QUESTION NO 01\n",
    "\n",
    "def say_hello():\n",
    "    print(\"Hello, Python Learner!\")\n",
    "\n",
    "say_hello()\n"
   ]
  },
  {
   "cell_type": "code",
   "execution_count": 2,
   "id": "af0019fe-f021-43ca-a416-b4c30747f5b5",
   "metadata": {},
   "outputs": [
    {
     "name": "stdout",
     "output_type": "stream",
     "text": [
      "Hello, Ali!\n"
     ]
    }
   ],
   "source": [
    "#QUESTION NO 02\n",
    "\n",
    "def greet_user(name):\n",
    "    print(\"Hello, \" + name + \"!\")\n",
    "\n",
    "greet_user(\"Ali\")\n"
   ]
  },
  {
   "cell_type": "code",
   "execution_count": 3,
   "id": "26ee8cee-800a-4180-9465-0d298f627b74",
   "metadata": {},
   "outputs": [
    {
     "name": "stdout",
     "output_type": "stream",
     "text": [
      "I have a cat named Kitty.\n",
      "I have a dog named Buddy.\n"
     ]
    }
   ],
   "source": [
    "#QUESTION NO 03\n",
    "\n",
    "def describe_pet(animal_type, pet_name):\n",
    "    print(\"I have a \" + animal_type + \" named \" + pet_name + \".\")\n",
    "\n",
    "describe_pet(\"cat\", \"Kitty\")\n",
    "describe_pet(pet_name=\"Buddy\", animal_type=\"dog\")\n"
   ]
  },
  {
   "cell_type": "code",
   "execution_count": 4,
   "id": "7d808c38-81da-462c-9928-87dcc680b326",
   "metadata": {},
   "outputs": [
    {
     "name": "stdout",
     "output_type": "stream",
     "text": [
      "I have a dog named Rocky.\n",
      "I have a cat named Mittens.\n"
     ]
    }
   ],
   "source": [
    "#QUESTION NO 04\n",
    "\n",
    "def describe_pet(pet_name, animal_type=\"dog\"):\n",
    "    print(\"I have a \" + animal_type + \" named \" + pet_name + \".\")\n",
    "\n",
    "describe_pet(\"Rocky\")\n",
    "describe_pet(\"Mittens\", \"cat\")\n"
   ]
  },
  {
   "cell_type": "code",
   "execution_count": 5,
   "id": "36a1d2c0-2146-4214-baa2-8446526b171a",
   "metadata": {},
   "outputs": [
    {
     "name": "stdout",
     "output_type": "stream",
     "text": [
      "Ahmed Khan\n"
     ]
    }
   ],
   "source": [
    "#QUESTION NO 05\n",
    "\n",
    "def get_formatted_name(first, last):\n",
    "    full_name = first + \" \" + last\n",
    "    return full_name.title()\n",
    "\n",
    "name = get_formatted_name(\"ahmed\", \"khan\")\n",
    "print(name)"
   ]
  },
  {
   "cell_type": "code",
   "execution_count": 6,
   "id": "4edc648d-9a63-48d8-85cd-caa08541e6fd",
   "metadata": {},
   "outputs": [
    {
     "name": "stdout",
     "output_type": "stream",
     "text": [
      "Sara Ali\n",
      "Sara Zahid Ali\n"
     ]
    }
   ],
   "source": [
    "#QUESTION NO 06\n",
    "\n",
    "def get_formatted_name(first, last, middle=\"\"):\n",
    "    if middle:\n",
    "        full_name = first + \" \" + middle + \" \" + last\n",
    "    else:\n",
    "        full_name = first + \" \" + last\n",
    "    return full_name.title()\n",
    "\n",
    "print(get_formatted_name(\"sara\", \"ali\"))\n",
    "print(get_formatted_name(\"sara\", \"ali\", \"zahid\"))\n"
   ]
  },
  {
   "cell_type": "code",
   "execution_count": 7,
   "id": "c8621ace-2a7b-4ee6-b38e-928e4bc045d0",
   "metadata": {},
   "outputs": [
    {
     "name": "stdout",
     "output_type": "stream",
     "text": [
      "{'first': 'Ali', 'last': 'Raza'}\n",
      "{'first': 'Ali', 'last': 'Raza', 'age': 25}\n"
     ]
    }
   ],
   "source": [
    "#QUESTION NO 07\n",
    "\n",
    "def build_person(first, last, age=None):\n",
    "    person = {\"first\": first, \"last\": last}\n",
    "    if age:\n",
    "        person[\"age\"] = age\n",
    "    return person\n",
    "\n",
    "print(build_person(\"Ali\", \"Raza\"))\n",
    "print(build_person(\"Ali\", \"Raza\", 25))\n"
   ]
  },
  {
   "cell_type": "code",
   "execution_count": 8,
   "id": "cfec7b13-c604-425e-9ab7-ea10cc909191",
   "metadata": {},
   "outputs": [
    {
     "name": "stdout",
     "output_type": "stream",
     "text": [
      "Hello, Ayesha!\n",
      "Hello, Bilal!\n",
      "Hello, Fahad!\n"
     ]
    }
   ],
   "source": [
    "#QUESTION NO 08\n",
    "\n",
    "def greet_users(usernames):\n",
    "    for name in usernames:\n",
    "        print(\"Hello, \" + name + \"!\")\n",
    "\n",
    "users = [\"Ayesha\", \"Bilal\", \"Fahad\"]\n",
    "greet_users(users)\n"
   ]
  },
  {
   "cell_type": "code",
   "execution_count": null,
   "id": "4f548395-bb5f-4b08-8f54-ac37507a9c2e",
   "metadata": {},
   "outputs": [],
   "source": []
  }
 ],
 "metadata": {
  "kernelspec": {
   "display_name": "Python 3 (ipykernel)",
   "language": "python",
   "name": "python3"
  },
  "language_info": {
   "codemirror_mode": {
    "name": "ipython",
    "version": 3
   },
   "file_extension": ".py",
   "mimetype": "text/x-python",
   "name": "python",
   "nbconvert_exporter": "python",
   "pygments_lexer": "ipython3",
   "version": "3.12.7"
  }
 },
 "nbformat": 4,
 "nbformat_minor": 5
}
